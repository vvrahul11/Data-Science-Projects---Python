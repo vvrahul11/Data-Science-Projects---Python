{
 "cells": [
  {
   "cell_type": "code",
   "execution_count": 7,
   "metadata": {},
   "outputs": [
    {
     "name": "stdout",
     "output_type": "stream",
     "text": [
      "slice starting 1 days ago: [108.67, 109.86]\n",
      "slice starting 2 days ago: [109.86, 110.15]\n"
     ]
    }
   ],
   "source": [
    "def show_balances(daily_balances):\n",
    "\n",
    "    # do not include -1 because that slice will only have 1 balance, yesterday\n",
    "    for day in range(1, 3):\n",
    "        balance_slice = daily_balances[day : day + 2]\n",
    "\n",
    "        # use positive number for printing\n",
    "        print(\"slice starting %d days ago: %s\" % (abs(day), balance_slice))\n",
    "        \n",
    "daily_balances = [107.92, 108.67, 109.86, 110.15]\n",
    "show_balances(daily_balances)\n",
    "\n",
    "    "
   ]
  },
  {
   "cell_type": "code",
   "execution_count": null,
   "metadata": {},
   "outputs": [],
   "source": []
  }
 ],
 "metadata": {
  "kernelspec": {
   "display_name": "Python 3",
   "language": "python",
   "name": "python3"
  },
  "language_info": {
   "codemirror_mode": {
    "name": "ipython",
    "version": 3
   },
   "file_extension": ".py",
   "mimetype": "text/x-python",
   "name": "python",
   "nbconvert_exporter": "python",
   "pygments_lexer": "ipython3",
   "version": "3.6.1"
  }
 },
 "nbformat": 4,
 "nbformat_minor": 2
}
